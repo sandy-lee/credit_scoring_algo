{
 "cells": [
  {
   "cell_type": "code",
   "execution_count": 1,
   "metadata": {},
   "outputs": [],
   "source": [
    "import pandas\n",
    "import sklearn"
   ]
  },
  {
   "cell_type": "markdown",
   "metadata": {},
   "source": [
    "https://www.kaggle.com/fedesoriano/company-bankruptcy-prediction"
   ]
  }
 ],
 "metadata": {
  "interpreter": {
   "hash": "f98c40a3e145a6785d8044a4afb8113368e7bd4b61030705ab267d0ea46b5c04"
  },
  "kernelspec": {
   "display_name": "Python 3.8.10 64-bit ('credit_scoring_algo-tCmIl9jC': virtualenv)",
   "language": "python",
   "name": "python3"
  },
  "language_info": {
   "codemirror_mode": {
    "name": "ipython",
    "version": 3
   },
   "file_extension": ".py",
   "mimetype": "text/x-python",
   "name": "python",
   "nbconvert_exporter": "python",
   "pygments_lexer": "ipython3",
   "version": "3.8.10"
  },
  "orig_nbformat": 4
 },
 "nbformat": 4,
 "nbformat_minor": 2
}
